{
  "nbformat": 4,
  "nbformat_minor": 0,
  "metadata": {
    "colab": {
      "provenance": [],
      "include_colab_link": true
    },
    "kernelspec": {
      "name": "python3",
      "display_name": "Python 3"
    },
    "language_info": {
      "name": "python"
    }
  },
  "cells": [
    {
      "cell_type": "markdown",
      "metadata": {
        "id": "view-in-github",
        "colab_type": "text"
      },
      "source": [
        "<a href=\"https://colab.research.google.com/github/TobiasMaugus/Pratica1-PM/blob/master/problema3.ipynb\" target=\"_parent\"><img src=\"https://colab.research.google.com/assets/colab-badge.svg\" alt=\"Open In Colab\"/></a>"
      ]
    },
    {
      "cell_type": "markdown",
      "source": [
        "# GCC118 - Programação Matemática\n",
        "## Universidade Federal de Lavras\n",
        "### Instituto de Ciências Exatas e Tecnológicas\n",
        "#### Profa. Andreza C. Beezão Moreira (DMM/UFLA)\n",
        "#### Prof. Mayron César O. Moreira (DCC/UFLA)"
      ],
      "metadata": {
        "id": "7YcVBRS7bEzs"
      }
    },
    {
      "cell_type": "markdown",
      "source": [
        "## Problema\n",
        "\n",
        "A cidade de União Paulista enfrenta uma séria carência orçamentária. Em busca de uma solução de longo prazo, a câmara de vereadores da cidade aprovou uma melhoria da base de cobrança de impostos, que prevê a condenação de uma área habitacional no centro da cidade e sua substituição por um conjunto habitacional moderno.\n",
        "\n",
        "O projeto envolve duas fases:\n",
        "\n",
        "\n",
        "1.   Demolição das casas que estão aquém do padrão para liberar terreno para o novo projeto;\n",
        "2.   Construção do novo conjunto urbano.\n",
        "\n",
        "A seguir, daremos um resumo da situação:\n",
        "\n",
        "Um total de 300 casas aquém do padrão pode ser demolido. Cada casa ocupa um lote de 0,25 acres. O custo de demolição de uma casa condenada é de $2.000. Os tamanhos de lotes para domicílios (unidades) simples, duplos, triplos e quádruplos são de 0,18; 0,28; 0,4 e 0,5 acres, respectivamente. Ruas, espaços abertos e instalações públicas ocupam 15% da área disponível.\n",
        "\n",
        "No novo conjunto habitacional, as unidades triplas e quádruplas devem representar no mínimo 25% do total. Unidades simples devem representar no mínimo 20% de todas as unidades, e unidades duplas, no mínimo 10%. O imposto cobrado por unidade para unidades simples, duplas, triplas e quádruplas é de $1.000, $1.900, $2.700 e $3.400, respectivamente.\n",
        "\n",
        "O custo de construção por unidade domiciliar simples, dupla, tripla e quádrupla é de $50.000, $70.000, $130.000 e $160.000, respectivamente. O financiamento acordado com um banco local será de no máximo $15 milhões.\n",
        "\n",
        "Quantas unidades de cada tipo devem ser construídas para maximizar a arrecadação de impostos?\n"
      ],
      "metadata": {
        "id": "nwDl9k7nAR_J"
      }
    },
    {
      "cell_type": "markdown",
      "source": [
        "## Instalação da biblioteca PuLP\n",
        "\n",
        "Para mais informações, acesse: [PuLP 2.9.0](https://pypi.org/project/PuLP/)."
      ],
      "metadata": {
        "id": "gDSX7cj5bweS"
      }
    },
    {
      "cell_type": "code",
      "execution_count": 45,
      "metadata": {
        "id": "4O-RtOj9au6i",
        "colab": {
          "base_uri": "https://localhost:8080/"
        },
        "outputId": "cc0e25fc-8dca-4f8c-9ed8-35197b2c64ff"
      },
      "outputs": [
        {
          "output_type": "stream",
          "name": "stdout",
          "text": [
            "Requirement already satisfied: pulp in /usr/local/lib/python3.12/dist-packages (3.3.0)\n"
          ]
        }
      ],
      "source": [
        "!pip install pulp\n",
        "import pulp"
      ]
    },
    {
      "cell_type": "markdown",
      "source": [
        "## Declaração dos parâmetros\n",
        "\n",
        "* $D$: Custo de demolição\n",
        "* $A$: Área total em acres\n",
        "* $U$: Área útil\n",
        "* $F$: Financiamento máximo\n",
        "* $O$: Orcamento para construção\n",
        "* $N$: tipos de unidade =[simples, duplas, triplas, quádruplas].\n",
        "* $r_i \\in \\mathbb{R}_+$:Imposto sobre cada unidade do tipo $i \\in N$.  \n",
        "* $a_i \\in \\mathbb{R}_+$: Área ocupada por unidade do tipo $i \\in N$.      \n",
        "* $c_i \\in \\mathbb{R}_+$:Custo de construção por unidade do tipo $i \\in N$."
      ],
      "metadata": {
        "id": "TuBKVB0dcKJj"
      }
    },
    {
      "cell_type": "code",
      "source": [
        "tipos_unidades = [1, 2, 3, 4]  # 1=simple, 2=dupla, 3=tripla, 4=quádrupla\n",
        "\n",
        "# Impostos por tipo de unidade\n",
        "impostos = {\n",
        "    1: 1000,\n",
        "    2: 1900,\n",
        "    3: 2700,\n",
        "    4: 3400\n",
        "}\n",
        "\n",
        "# Área ocupada por unidade (acres)\n",
        "area_unidade = {\n",
        "    1: 0.18,\n",
        "    2: 0.28,\n",
        "    3: 0.4,\n",
        "    4: 0.5\n",
        "}\n",
        "\n",
        "# Custo de construção por tipo\n",
        "custo_construcao = {\n",
        "    1: 50000,\n",
        "    2: 70000,\n",
        "    3: 130000,\n",
        "    4: 160000\n",
        "}\n",
        "\n",
        "# Custo de demolição\n",
        "custo_demolicao_total = 300 * 2000\n",
        "\n",
        "# Área total liberada\n",
        "area_total_acres = 300 * 0.25\n",
        "area_util = 0.85 * area_total_acres\n",
        "\n",
        "# Financiamento máximo\n",
        "orcamento_total = 15000000\n",
        "orcamento_para_construcao = orcamento_total - custo_demolicao_total"
      ],
      "metadata": {
        "id": "j2jcIdoTcTE7"
      },
      "execution_count": 46,
      "outputs": []
    },
    {
      "cell_type": "markdown",
      "source": [
        "## Declaração do objeto que representa o modelo matemático"
      ],
      "metadata": {
        "id": "0Dr-_-xjdul1"
      }
    },
    {
      "cell_type": "code",
      "source": [
        "modelo = pulp.LpProblem('habitacao_uniao_paulista', pulp.LpMaximize)"
      ],
      "metadata": {
        "id": "g1eMgL7LbDls"
      },
      "execution_count": 47,
      "outputs": []
    },
    {
      "cell_type": "markdown",
      "source": [
        "## Variáveis de decisão\n",
        "\n",
        "* $x_i \\ge 0$: quantidade de unidades do tipo  $i \\in N$ a serem sonstruídas"
      ],
      "metadata": {
        "id": "kHRXi46jeJYC"
      }
    },
    {
      "cell_type": "code",
      "source": [
        "x = pulp.LpVariable.dicts(\"x\", tipos_unidades, lowBound=0, cat='Integer')"
      ],
      "metadata": {
        "id": "uLzHZdaReIWO"
      },
      "execution_count": 48,
      "outputs": []
    },
    {
      "cell_type": "markdown",
      "source": [
        "## Função objetivo\n",
        "\n",
        "* Maximização da arrecadação de impostos: $\\max 1000x_1 + 1900 x_2 + 2700x_3 + 3400X_4$"
      ],
      "metadata": {
        "id": "DmrN-xfoehPi"
      }
    },
    {
      "cell_type": "code",
      "source": [
        "modelo += pulp.lpSum(impostos[i] * x[i] for i in tipos_unidades)"
      ],
      "metadata": {
        "id": "3zCuxaOLegLB"
      },
      "execution_count": 49,
      "outputs": []
    },
    {
      "cell_type": "code",
      "source": [
        "modelo"
      ],
      "metadata": {
        "id": "oGF1-xCnsqLi",
        "colab": {
          "base_uri": "https://localhost:8080/"
        },
        "outputId": "f5f60d61-8535-48e8-ad20-f20d60d3a06d"
      },
      "execution_count": 50,
      "outputs": [
        {
          "output_type": "execute_result",
          "data": {
            "text/plain": [
              "habitacao_uniao_paulista:\n",
              "MAXIMIZE\n",
              "1000*x_1 + 1900*x_2 + 2700*x_3 + 3400*x_4 + 0.0\n",
              "VARIABLES\n",
              "0 <= x_1 Integer\n",
              "0 <= x_2 Integer\n",
              "0 <= x_3 Integer\n",
              "0 <= x_4 Integer"
            ]
          },
          "metadata": {},
          "execution_count": 50
        }
      ]
    },
    {
      "cell_type": "markdown",
      "source": [
        "## Restrições\n",
        "\n"
      ],
      "metadata": {
        "id": "tnR02FDyeozi"
      }
    },
    {
      "cell_type": "markdown",
      "source": [
        "* Propoção de unidades a serem constuídas:\n",
        "\n",
        "  * $x_1 \\ge 0,2\\sum_{i \\in N} x_i$\n",
        "  * $x_2 \\ge 0,1\\sum_{i \\in N} x_i$\n",
        "  * $x_3 + x_4 \\ge 0,25\\sum_{i \\in N} x_i$"
      ],
      "metadata": {
        "id": "ZjoRyjFWeq5D"
      }
    },
    {
      "cell_type": "code",
      "source": [
        "modelo += x[1] >= 0.2 * pulp.lpSum(x[i] for i in tipos_unidades)  # simples >= 20%\n",
        "modelo += x[2] >= 0.1 * pulp.lpSum(x[i] for i in tipos_unidades)  # duplas >= 10%\n",
        "modelo += x[3] + x[4] >= 0.25 * pulp.lpSum(x[i] for i in tipos_unidades)  # triplas+quádruplas >= 25%"
      ],
      "metadata": {
        "id": "nIxAFQ3gfBYj"
      },
      "execution_count": 51,
      "outputs": []
    },
    {
      "cell_type": "markdown",
      "source": [
        "* Área ocupada pelas unidades:\n",
        "$\\sum_{i \\in N} x_ia_i \\le U$"
      ],
      "metadata": {
        "id": "HDnvheVVfbfo"
      }
    },
    {
      "cell_type": "code",
      "source": [
        "modelo += pulp.lpSum(area_unidade[i] * x[i] for i in tipos_unidades) <= area_util"
      ],
      "metadata": {
        "id": "6kBq6mdpffO6"
      },
      "execution_count": 52,
      "outputs": []
    },
    {
      "cell_type": "markdown",
      "source": [
        "* Orçamento toral de contrução:\n",
        "$\\sum_{i \\in N} x_ic_i \\le O$"
      ],
      "metadata": {
        "id": "WjGw1fVisBu4"
      }
    },
    {
      "cell_type": "code",
      "source": [
        "modelo += pulp.lpSum(custo_construcao[i] * x[i] for i in tipos_unidades) <= orcamento_para_construcao"
      ],
      "metadata": {
        "id": "G5Q-19TSsiG4"
      },
      "execution_count": 53,
      "outputs": []
    },
    {
      "cell_type": "markdown",
      "source": [
        "### Resolvendo o problema"
      ],
      "metadata": {
        "id": "x2Lpqq-5fiu6"
      }
    },
    {
      "cell_type": "code",
      "source": [
        "status = modelo.solve()"
      ],
      "metadata": {
        "id": "jMphNaEDfk-i"
      },
      "execution_count": 54,
      "outputs": []
    },
    {
      "cell_type": "markdown",
      "source": [
        "## Imprimindo as soluções do problema"
      ],
      "metadata": {
        "id": "NfwY9yYDgnjX"
      }
    },
    {
      "cell_type": "code",
      "source": [
        "print('Status da solução:', pulp.LpStatus[status])\n",
        "print('Valor ótimo (arrecadação de impostos): $', modelo.objective.value())\n",
        "\n",
        "print('\\nQuantidade ideal de unidades a construir:')\n",
        "for i in tipos_unidades:\n",
        "    tipo = ['Simples', 'Dupla', 'Tripla', 'Quádrupla'][i - 1]\n",
        "    print(f\"  {tipo}: {x[i].value():.2f} unidades\")"
      ],
      "metadata": {
        "id": "V4FtNQyOgrhp",
        "colab": {
          "base_uri": "https://localhost:8080/"
        },
        "outputId": "01be4824-2d20-47a3-f440-d0b5d0ce2774"
      },
      "execution_count": 55,
      "outputs": [
        {
          "output_type": "stream",
          "name": "stdout",
          "text": [
            "Status da solução: Optimal\n",
            "Valor ótimo (arrecadação de impostos): $ 341100.0\n",
            "\n",
            "Quantidade ideal de unidades a construir:\n",
            "  Simples: 35.00 unidades\n",
            "  Dupla: 96.00 unidades\n",
            "  Tripla: 37.00 unidades\n",
            "  Quádrupla: 7.00 unidades\n"
          ]
        }
      ]
    }
  ]
}