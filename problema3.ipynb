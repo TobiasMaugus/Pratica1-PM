{
  "cells": [
    {
      "cell_type": "markdown",
      "metadata": {
        "id": "view-in-github",
        "colab_type": "text"
      },
      "source": [
        "<a href=\"https://colab.research.google.com/github/TobiasMaugus/Pratica1-PM/blob/master/problema3.ipynb\" target=\"_parent\"><img src=\"https://colab.research.google.com/assets/colab-badge.svg\" alt=\"Open In Colab\"/></a>"
      ]
    },
    {
      "cell_type": "markdown",
      "metadata": {
        "id": "7YcVBRS7bEzs"
      },
      "source": [
        "## GCC118 - Programação Matemática\n",
        "### Universidade Federal de Lavras\n",
        "---\n",
        "#### Luis Kennedy Gervásio Turola\n",
        "#### Thaís Giovanna Lopes\n",
        "#### Tobias Maugus Bueno Cougo\n",
        "\n",
        "---"
      ]
    },
    {
      "cell_type": "markdown",
      "metadata": {
        "id": "nwDl9k7nAR_J"
      },
      "source": [
        "## Problema\n",
        "\n",
        "A cidade de União Paulista enfrenta uma séria carência orçamentária. Em busca de uma solução de longo prazo, a câmara de vereadores da cidade aprovou uma melhoria da base de cobrança de impostos, que prevê a condenação de uma área habitacional no centro da cidade e sua substituição por um conjunto habitacional moderno.\n",
        "\n",
        "O projeto envolve duas fases:\n",
        "\n",
        "\n",
        "1.   Demolição das casas que estão aquém do padrão para liberar terreno para o novo projeto;\n",
        "2.   Construção do novo conjunto urbano.\n",
        "\n",
        "A seguir, daremos um resumo da situação:\n",
        "\n",
        "Um total de 300 casas aquém do padrão pode ser demolido. Cada casa ocupa um lote de 0,25 acres. O custo de demolição de uma casa condenada é de $2.000. Os tamanhos de lotes para domicílios (unidades) simples, duplos, triplos e quádruplos são de 0,18; 0,28; 0,4 e 0,5 acres, respectivamente. Ruas, espaços abertos e instalações públicas ocupam 15% da área disponível.\n",
        "\n",
        "No novo conjunto habitacional, as unidades triplas e quádruplas devem representar no mínimo 25% do total. Unidades simples devem representar no mínimo 20% de todas as unidades, e unidades duplas, no mínimo 10%. O imposto cobrado por unidade para unidades simples, duplas, triplas e quádruplas é de $1.000, $1.900, $2.700 e $3.400, respectivamente.\n",
        "\n",
        "O custo de construção por unidade domiciliar simples, dupla, tripla e quádrupla é de $50.000, $70.000, $130.000 e $160.000, respectivamente. O financiamento acordado com um banco local será de no máximo $15 milhões.\n",
        "\n",
        "Quantas unidades de cada tipo devem ser construídas para maximizar a arrecadação de impostos?\n"
      ]
    },
    {
      "cell_type": "markdown",
      "metadata": {
        "id": "gDSX7cj5bweS"
      },
      "source": [
        "## Instalação da biblioteca PuLP\n",
        "\n",
        "Para mais informações, acesse: [PuLP 2.9.0](https://pypi.org/project/PuLP/)."
      ]
    },
    {
      "cell_type": "code",
      "execution_count": 10,
      "metadata": {
        "colab": {
          "base_uri": "https://localhost:8080/"
        },
        "id": "4O-RtOj9au6i",
        "outputId": "c89eb5d2-21ab-417a-8df7-90719559f7fa"
      },
      "outputs": [
        {
          "output_type": "stream",
          "name": "stdout",
          "text": [
            "Requirement already satisfied: pulp in /usr/local/lib/python3.12/dist-packages (3.3.0)\n"
          ]
        }
      ],
      "source": [
        "!pip install pulp\n",
        "import pulp"
      ]
    },
    {
      "cell_type": "markdown",
      "metadata": {
        "id": "TuBKVB0dcKJj"
      },
      "source": [
        "## Declaração dos parâmetros\n",
        "\n",
        "* $A$: Área total em acres\n",
        "* $F$: Financiamento máximo\n",
        "* $O$: Orcamento Total\n",
        "* $N$: tipos de unidade =[simples, duplas, triplas, quádruplas].\n",
        "* $r_i \\in \\mathbb{R}_+$:Imposto sobre cada unidade do tipo $i \\in N$.  \n",
        "* $a_i \\in \\mathbb{R}_+$:Área ocupada por unidade do tipo $i \\in N$.      \n",
        "* $c_i \\in \\mathbb{R}_+$:Custo de construção por unidade do tipo $i \\in N$."
      ]
    },
    {
      "cell_type": "code",
      "execution_count": 11,
      "metadata": {
        "id": "j2jcIdoTcTE7"
      },
      "outputs": [],
      "source": [
        "tipos_unidades = [1, 2, 3, 4]  # 1=simple, 2=dupla, 3=tripla, 4=quádrupla\n",
        "\n",
        "# Impostos por tipo de unidade\n",
        "impostos = {\n",
        "    1: 1000,\n",
        "    2: 1900,\n",
        "    3: 2700,\n",
        "    4: 3400\n",
        "}\n",
        "\n",
        "# Área ocupada por unidade (acres)\n",
        "area_unidade = {\n",
        "    1: 0.18,\n",
        "    2: 0.28,\n",
        "    3: 0.4,\n",
        "    4: 0.5\n",
        "}\n",
        "\n",
        "# Custo de construção por tipo\n",
        "custo_construcao = {\n",
        "    1: 50000,\n",
        "    2: 70000,\n",
        "    3: 130000,\n",
        "    4: 160000\n",
        "}\n",
        "\n",
        "# Financiamento máximo\n",
        "orcamento_total = 15000000"
      ]
    },
    {
      "cell_type": "markdown",
      "metadata": {
        "id": "0Dr-_-xjdul1"
      },
      "source": [
        "## Declaração do objeto que representa o modelo matemático"
      ]
    },
    {
      "cell_type": "code",
      "execution_count": 12,
      "metadata": {
        "id": "g1eMgL7LbDls"
      },
      "outputs": [],
      "source": [
        "modelo = pulp.LpProblem('habitacao_uniao_paulista', pulp.LpMaximize)"
      ]
    },
    {
      "cell_type": "markdown",
      "metadata": {
        "id": "kHRXi46jeJYC"
      },
      "source": [
        "## Variáveis de decisão\n",
        "\n",
        "* $x_i \\ge 0$: quantidade de unidades do tipo  $i \\in N$ a serem sonstruídas\n",
        "\n",
        "* $\\ge 0$ casas_demolidas $\\le 300$: quantidade de casas a serem demolidas"
      ]
    },
    {
      "cell_type": "code",
      "execution_count": 13,
      "metadata": {
        "id": "uLzHZdaReIWO"
      },
      "outputs": [],
      "source": [
        "x = pulp.LpVariable.dicts(\"x\", tipos_unidades, lowBound=0, cat='Integer')\n",
        "casas_demolidas = pulp.LpVariable(\"casas_demolidas\", lowBound=0, upBound=300, cat='Integer')"
      ]
    },
    {
      "cell_type": "markdown",
      "metadata": {
        "id": "DmrN-xfoehPi"
      },
      "source": [
        "## Função objetivo\n",
        "\n",
        "* Maximização da arrecadação de impostos: $\\max 1000x_1 + 1900 x_2 + 2700x_3 + 3400X_4$"
      ]
    },
    {
      "cell_type": "code",
      "execution_count": 14,
      "metadata": {
        "id": "3zCuxaOLegLB"
      },
      "outputs": [],
      "source": [
        "modelo += pulp.lpSum(impostos[i] * x[i] for i in tipos_unidades)"
      ]
    },
    {
      "cell_type": "code",
      "execution_count": 15,
      "metadata": {
        "colab": {
          "base_uri": "https://localhost:8080/"
        },
        "id": "oGF1-xCnsqLi",
        "outputId": "8ad70f36-f7cb-438e-f6ba-f1ff5f892e64"
      },
      "outputs": [
        {
          "output_type": "execute_result",
          "data": {
            "text/plain": [
              "habitacao_uniao_paulista:\n",
              "MAXIMIZE\n",
              "1000*x_1 + 1900*x_2 + 2700*x_3 + 3400*x_4 + 0.0\n",
              "VARIABLES\n",
              "0 <= x_1 Integer\n",
              "0 <= x_2 Integer\n",
              "0 <= x_3 Integer\n",
              "0 <= x_4 Integer"
            ]
          },
          "metadata": {},
          "execution_count": 15
        }
      ],
      "source": [
        "modelo"
      ]
    },
    {
      "cell_type": "markdown",
      "metadata": {
        "id": "tnR02FDyeozi"
      },
      "source": [
        "## Restrições\n",
        "\n"
      ]
    },
    {
      "cell_type": "markdown",
      "metadata": {
        "id": "ZjoRyjFWeq5D"
      },
      "source": [
        "* Propoção de unidades a serem constuídas:\n",
        "\n",
        "  * $x_1 \\ge 0,2\\sum_{i \\in N} x_i$\n",
        "  * $x_2 \\ge 0,1\\sum_{i \\in N} x_i$\n",
        "  * $x_3 + x_4 \\ge 0,25\\sum_{i \\in N} x_i$"
      ]
    },
    {
      "cell_type": "code",
      "execution_count": 16,
      "metadata": {
        "id": "nIxAFQ3gfBYj"
      },
      "outputs": [],
      "source": [
        "modelo += x[1] >= 0.2 * pulp.lpSum(x[i] for i in tipos_unidades)  # simples >= 20%\n",
        "modelo += x[2] >= 0.1 * pulp.lpSum(x[i] for i in tipos_unidades)  # duplas >= 10%\n",
        "modelo += x[3] + x[4] >= 0.25 * pulp.lpSum(x[i] for i in tipos_unidades)  # triplas+quádruplas >= 25%"
      ]
    },
    {
      "cell_type": "markdown",
      "metadata": {
        "id": "HDnvheVVfbfo"
      },
      "source": [
        "* Área ocupada pelas unidades:\n",
        "$\\sum_{i \\in N} x_ia_i \\le U$"
      ]
    },
    {
      "cell_type": "code",
      "execution_count": 17,
      "metadata": {
        "id": "6kBq6mdpffO6"
      },
      "outputs": [],
      "source": [
        "modelo += pulp.lpSum(area_unidade[i] * x[i] for i in tipos_unidades) <= 0.85 * (0.25 * casas_demolidas)"
      ]
    },
    {
      "cell_type": "markdown",
      "metadata": {
        "id": "WjGw1fVisBu4"
      },
      "source": [
        "* Orçamento toral de contrução:\n",
        "$\\sum_{i \\in N} x_ic_i \\le O$"
      ]
    },
    {
      "cell_type": "code",
      "execution_count": 18,
      "metadata": {
        "id": "G5Q-19TSsiG4"
      },
      "outputs": [],
      "source": [
        "modelo += pulp.lpSum(custo_construcao[i] * x[i] for i in tipos_unidades) + 2000 * casas_demolidas <= orcamento_total"
      ]
    },
    {
      "cell_type": "markdown",
      "metadata": {
        "id": "x2Lpqq-5fiu6"
      },
      "source": [
        "### Resolvendo o problema"
      ]
    },
    {
      "cell_type": "code",
      "execution_count": 24,
      "metadata": {
        "id": "jMphNaEDfk-i"
      },
      "outputs": [],
      "source": [
        "status = modelo.solve()"
      ]
    },
    {
      "cell_type": "markdown",
      "metadata": {
        "id": "NfwY9yYDgnjX"
      },
      "source": [
        "## Imprimindo as soluções do problema"
      ]
    },
    {
      "cell_type": "code",
      "execution_count": 26,
      "metadata": {
        "colab": {
          "base_uri": "https://localhost:8080/"
        },
        "id": "V4FtNQyOgrhp",
        "outputId": "2113782b-6c15-476e-8d71-917533482302"
      },
      "outputs": [
        {
          "output_type": "stream",
          "name": "stdout",
          "text": [
            "Status da solução: Optimal\n",
            "Valor ótimo (arrecadação de impostos): $ 343700.0\n",
            "\n",
            "Gasto total: $15000000.00\n",
            "\n",
            "Casas demolidas: 245\n",
            "\n",
            "Quantidade ideal de unidades a construir:\n",
            "  Simples: 36.00 unidades\n",
            "  Dupla: 98.00 unidades\n",
            "  Tripla: 45.00 unidades\n",
            "  Quádrupla: 0.00 unidades\n"
          ]
        }
      ],
      "source": [
        "print('Status da solução:', pulp.LpStatus[status])\n",
        "print('Valor ótimo (arrecadação de impostos): $', modelo.objective.value())\n",
        "\n",
        "gasto_total = 2000 * casas_demolidas.value() + sum(custo_construcao[i] * x[i].value() for i in tipos_unidades)\n",
        "print(f\"\\nGasto total: ${gasto_total:.2f}\")\n",
        "\n",
        "print(f\"\\nCasas demolidas: {casas_demolidas.value():.0f}\")\n",
        "print('\\nQuantidade ideal de unidades a construir:')\n",
        "for i in tipos_unidades:\n",
        "    tipo = ['Simples', 'Dupla', 'Tripla', 'Quádrupla'][i - 1]\n",
        "    print(f\"  {tipo}: {x[i].value():.2f} unidades\")"
      ]
    }
  ],
  "metadata": {
    "colab": {
      "provenance": [],
      "include_colab_link": true
    },
    "kernelspec": {
      "display_name": "Python 3",
      "name": "python3"
    },
    "language_info": {
      "name": "python"
    }
  },
  "nbformat": 4,
  "nbformat_minor": 0
}